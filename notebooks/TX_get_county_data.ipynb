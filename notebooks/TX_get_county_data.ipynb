{
 "cells": [
  {
   "cell_type": "code",
   "execution_count": 2,
   "metadata": {},
   "outputs": [],
   "source": [
    "%matplotlib inline\n",
    "import h5pyd\n",
    "import numpy as np\n",
    "import pandas as pd\n",
    "import matplotlib.pyplot as plt\n",
    "import matplotlib.image as mpimg\n",
    "from scipy.spatial import cKDTree"
   ]
  },
  {
   "cell_type": "code",
   "execution_count": 4,
   "metadata": {},
   "outputs": [],
   "source": [
    "f = h5pyd.File(\"/nrel/nsrdb/v3/tmy/nsrdb_tmy-2020.h5\", 'r') #nrel-pds-nsrdb/v3/tmy"
   ]
  },
  {
   "cell_type": "code",
   "execution_count": 5,
   "metadata": {},
   "outputs": [],
   "source": [
    "# list(f)\n",
    "# f.attrs['version']   # attributes can be used to provide desriptions of the content"
   ]
  },
  {
   "cell_type": "code",
   "execution_count": 6,
   "metadata": {},
   "outputs": [
    {
     "data": {
      "text/plain": [
       "(8760, 2018392)"
      ]
     },
     "execution_count": 6,
     "metadata": {},
     "output_type": "execute_result"
    }
   ],
   "source": [
    "# Datasets are stored in a 2d array of time x location\n",
    "dset = f['ghi']\n",
    "dset.shape"
   ]
  },
  {
   "cell_type": "code",
   "execution_count": 7,
   "metadata": {},
   "outputs": [
    {
     "data": {
      "text/plain": [
       "DatetimeIndex(['2020-01-01 00:30:00+00:00', '2020-01-01 01:30:00+00:00',\n",
       "               '2020-01-01 02:30:00+00:00', '2020-01-01 03:30:00+00:00',\n",
       "               '2020-01-01 04:30:00+00:00', '2020-01-01 05:30:00+00:00',\n",
       "               '2020-01-01 06:30:00+00:00', '2020-01-01 07:30:00+00:00',\n",
       "               '2020-01-01 08:30:00+00:00', '2020-01-01 09:30:00+00:00',\n",
       "               ...\n",
       "               '2020-12-31 14:30:00+00:00', '2020-12-31 15:30:00+00:00',\n",
       "               '2020-12-31 16:30:00+00:00', '2020-12-31 17:30:00+00:00',\n",
       "               '2020-12-31 18:30:00+00:00', '2020-12-31 19:30:00+00:00',\n",
       "               '2020-12-31 20:30:00+00:00', '2020-12-31 21:30:00+00:00',\n",
       "               '2020-12-31 22:30:00+00:00', '2020-12-31 23:30:00+00:00'],\n",
       "              dtype='datetime64[ns, UTC]', length=8760, freq=None)"
      ]
     },
     "execution_count": 7,
     "metadata": {},
     "output_type": "execute_result"
    }
   ],
   "source": [
    "# Extract datetime index for datasets\n",
    "time_index = pd.to_datetime(f['time_index'][...].astype(str))\n",
    "time_index # Temporal resolution is 60min"
   ]
  },
  {
   "cell_type": "code",
   "execution_count": 10,
   "metadata": {},
   "outputs": [
    {
     "ename": "OSError",
     "evalue": "Error retrieving data: None",
     "output_type": "error",
     "traceback": [
      "\u001b[0;31m---------------------------------------------------------------------------\u001b[0m",
      "\u001b[0;31mOSError\u001b[0m                                   Traceback (most recent call last)",
      "File \u001b[0;32m~/.conda/envs/H2/lib/python3.8/site-packages/h5pyd/_hl/dataset.py:1179\u001b[0m, in \u001b[0;36mDataset.__getitem__\u001b[0;34m(self, args, new_dtype)\u001b[0m\n\u001b[1;32m   1178\u001b[0m \u001b[39mtry\u001b[39;00m:\n\u001b[0;32m-> 1179\u001b[0m     rsp \u001b[39m=\u001b[39m \u001b[39mself\u001b[39;49m\u001b[39m.\u001b[39;49mGET(req, params\u001b[39m=\u001b[39;49mparams, \u001b[39mformat\u001b[39;49m\u001b[39m=\u001b[39;49m\u001b[39m\"\u001b[39;49m\u001b[39mbinary\u001b[39;49m\u001b[39m\"\u001b[39;49m)\n\u001b[1;32m   1180\u001b[0m \u001b[39mexcept\u001b[39;00m \u001b[39mIOError\u001b[39;00m \u001b[39mas\u001b[39;00m ioe:\n",
      "File \u001b[0;32m~/.conda/envs/H2/lib/python3.8/site-packages/h5pyd/_hl/base.py:979\u001b[0m, in \u001b[0;36mHLObject.GET\u001b[0;34m(self, req, params, use_cache, format)\u001b[0m\n\u001b[1;32m    978\u001b[0m \u001b[39mif\u001b[39;00m \u001b[39mlen\u001b[39m(http_chunks) \u001b[39m==\u001b[39m \u001b[39m0\u001b[39m:\n\u001b[0;32m--> 979\u001b[0m     \u001b[39mraise\u001b[39;00m \u001b[39mIOError\u001b[39;00m(\u001b[39m\"\u001b[39m\u001b[39mno data returned\u001b[39m\u001b[39m\"\u001b[39m)\n\u001b[1;32m    980\u001b[0m \u001b[39mif\u001b[39;00m \u001b[39mlen\u001b[39m(http_chunks) \u001b[39m==\u001b[39m \u001b[39m1\u001b[39m:\n\u001b[1;32m    981\u001b[0m     \u001b[39m# can return first and only chunk as response\u001b[39;00m\n",
      "\u001b[0;31mOSError\u001b[0m: no data returned",
      "\nDuring handling of the above exception, another exception occurred:\n",
      "\u001b[0;31mOSError\u001b[0m                                   Traceback (most recent call last)",
      "\u001b[1;32m/akhilesh2295/hsds-examples/notebooks/TX_get_county_data.ipynb Cell 6\u001b[0m in \u001b[0;36m<cell line: 2>\u001b[0;34m()\u001b[0m\n\u001b[1;32m      <a href='vscode-notebook-cell://github/akhilesh2295/hsds-examples/notebooks/TX_get_county_data.ipynb#W5sdnNjb2RlLXZmcw%3D%3D?line=0'>1</a>\u001b[0m \u001b[39m# Locational information is stored in either 'meta' or 'coordinates'\u001b[39;00m\n\u001b[0;32m----> <a href='vscode-notebook-cell://github/akhilesh2295/hsds-examples/notebooks/TX_get_county_data.ipynb#W5sdnNjb2RlLXZmcw%3D%3D?line=1'>2</a>\u001b[0m meta \u001b[39m=\u001b[39m pd\u001b[39m.\u001b[39mDataFrame(f[\u001b[39m'\u001b[39;49m\u001b[39mmeta\u001b[39;49m\u001b[39m'\u001b[39;49m][\u001b[39m.\u001b[39;49m\u001b[39m.\u001b[39;49m\u001b[39m.\u001b[39;49m])\n\u001b[1;32m      <a href='vscode-notebook-cell://github/akhilesh2295/hsds-examples/notebooks/TX_get_county_data.ipynb#W5sdnNjb2RlLXZmcw%3D%3D?line=2'>3</a>\u001b[0m meta\u001b[39m.\u001b[39mhead()\n",
      "File \u001b[0;32m~/.conda/envs/H2/lib/python3.8/site-packages/h5pyd/_hl/dataset.py:1188\u001b[0m, in \u001b[0;36mDataset.__getitem__\u001b[0;34m(self, args, new_dtype)\u001b[0m\n\u001b[1;32m   1186\u001b[0m         \u001b[39mbreak\u001b[39;00m\n\u001b[1;32m   1187\u001b[0m     \u001b[39melse\u001b[39;00m:\n\u001b[0;32m-> 1188\u001b[0m         \u001b[39mraise\u001b[39;00m \u001b[39mIOError\u001b[39;00m(\u001b[39mf\u001b[39m\u001b[39m\"\u001b[39m\u001b[39mError retrieving data: \u001b[39m\u001b[39m{\u001b[39;00mioe\u001b[39m.\u001b[39merrno\u001b[39m}\u001b[39;00m\u001b[39m\"\u001b[39m)\n\u001b[1;32m   1189\u001b[0m \u001b[39mif\u001b[39;00m \u001b[39misinstance\u001b[39m(rsp, \u001b[39mstr\u001b[39m):\n\u001b[1;32m   1190\u001b[0m     \u001b[39m# hexencoded response?\u001b[39;00m\n\u001b[1;32m   1191\u001b[0m     \u001b[39m# this is returned by API Gateway for lamba responses\u001b[39;00m\n\u001b[1;32m   1192\u001b[0m     rsp \u001b[39m=\u001b[39m \u001b[39mbytes\u001b[39m\u001b[39m.\u001b[39mfromhex(rsp)\n",
      "\u001b[0;31mOSError\u001b[0m: Error retrieving data: None"
     ]
    }
   ],
   "source": [
    "# Locational information is stored in either 'meta' or 'coordinates'\n",
    "meta = pd.DataFrame(f['meta'][...])\n",
    "meta.head()"
   ]
  },
  {
   "cell_type": "code",
   "execution_count": null,
   "metadata": {},
   "outputs": [
    {
     "data": {
      "text/plain": [
       "1.0"
      ]
     },
     "execution_count": 6,
     "metadata": {},
     "output_type": "execute_result"
    }
   ],
   "source": [
    "dset.attrs['psm_scale_factor'] # Irradiance values have been truncated to integer precision"
   ]
  },
  {
   "cell_type": "code",
   "execution_count": 11,
   "metadata": {},
   "outputs": [
    {
     "data": {
      "text/plain": [
       "'/home/grads/a/akhilesh.gandhi'"
      ]
     },
     "execution_count": 11,
     "metadata": {},
     "output_type": "execute_result"
    }
   ],
   "source": [
    "import os\n",
    "os.getcwd()\n"
   ]
  },
  {
   "cell_type": "code",
   "execution_count": 12,
   "metadata": {},
   "outputs": [
    {
     "ename": "FileNotFoundError",
     "evalue": "[Errno 2] No such file or directory: 'datasets/Texas_lat_lon_data.xlsx'",
     "output_type": "error",
     "traceback": [
      "\u001b[0;31m---------------------------------------------------------------------------\u001b[0m",
      "\u001b[0;31mFileNotFoundError\u001b[0m                         Traceback (most recent call last)",
      "\u001b[1;32m/akhilesh2295/hsds-examples/notebooks/TX_get_county_data.ipynb Cell 9\u001b[0m in \u001b[0;36m<cell line: 3>\u001b[0;34m()\u001b[0m\n\u001b[1;32m      <a href='vscode-notebook-cell://github/akhilesh2295/hsds-examples/notebooks/TX_get_county_data.ipynb#X10sdnNjb2RlLXZmcw%3D%3D?line=0'>1</a>\u001b[0m \u001b[39m# Get lat lon coordinates for counties in Texas from Excel file\u001b[39;00m\n\u001b[0;32m----> <a href='vscode-notebook-cell://github/akhilesh2295/hsds-examples/notebooks/TX_get_county_data.ipynb#X10sdnNjb2RlLXZmcw%3D%3D?line=2'>3</a>\u001b[0m df \u001b[39m=\u001b[39m pd\u001b[39m.\u001b[39;49mread_excel(\u001b[39m'\u001b[39;49m\u001b[39mdatasets/Texas_lat_lon_data.xlsx\u001b[39;49m\u001b[39m'\u001b[39;49m)\n",
      "File \u001b[0;32m~/.conda/envs/H2/lib/python3.8/site-packages/pandas/util/_decorators.py:211\u001b[0m, in \u001b[0;36mdeprecate_kwarg.<locals>._deprecate_kwarg.<locals>.wrapper\u001b[0;34m(*args, **kwargs)\u001b[0m\n\u001b[1;32m    209\u001b[0m     \u001b[39melse\u001b[39;00m:\n\u001b[1;32m    210\u001b[0m         kwargs[new_arg_name] \u001b[39m=\u001b[39m new_arg_value\n\u001b[0;32m--> 211\u001b[0m \u001b[39mreturn\u001b[39;00m func(\u001b[39m*\u001b[39;49margs, \u001b[39m*\u001b[39;49m\u001b[39m*\u001b[39;49mkwargs)\n",
      "File \u001b[0;32m~/.conda/envs/H2/lib/python3.8/site-packages/pandas/util/_decorators.py:331\u001b[0m, in \u001b[0;36mdeprecate_nonkeyword_arguments.<locals>.decorate.<locals>.wrapper\u001b[0;34m(*args, **kwargs)\u001b[0m\n\u001b[1;32m    325\u001b[0m \u001b[39mif\u001b[39;00m \u001b[39mlen\u001b[39m(args) \u001b[39m>\u001b[39m num_allow_args:\n\u001b[1;32m    326\u001b[0m     warnings\u001b[39m.\u001b[39mwarn(\n\u001b[1;32m    327\u001b[0m         msg\u001b[39m.\u001b[39mformat(arguments\u001b[39m=\u001b[39m_format_argument_list(allow_args)),\n\u001b[1;32m    328\u001b[0m         \u001b[39mFutureWarning\u001b[39;00m,\n\u001b[1;32m    329\u001b[0m         stacklevel\u001b[39m=\u001b[39mfind_stack_level(),\n\u001b[1;32m    330\u001b[0m     )\n\u001b[0;32m--> 331\u001b[0m \u001b[39mreturn\u001b[39;00m func(\u001b[39m*\u001b[39;49margs, \u001b[39m*\u001b[39;49m\u001b[39m*\u001b[39;49mkwargs)\n",
      "File \u001b[0;32m~/.conda/envs/H2/lib/python3.8/site-packages/pandas/io/excel/_base.py:482\u001b[0m, in \u001b[0;36mread_excel\u001b[0;34m(io, sheet_name, header, names, index_col, usecols, squeeze, dtype, engine, converters, true_values, false_values, skiprows, nrows, na_values, keep_default_na, na_filter, verbose, parse_dates, date_parser, thousands, decimal, comment, skipfooter, convert_float, mangle_dupe_cols, storage_options)\u001b[0m\n\u001b[1;32m    480\u001b[0m \u001b[39mif\u001b[39;00m \u001b[39mnot\u001b[39;00m \u001b[39misinstance\u001b[39m(io, ExcelFile):\n\u001b[1;32m    481\u001b[0m     should_close \u001b[39m=\u001b[39m \u001b[39mTrue\u001b[39;00m\n\u001b[0;32m--> 482\u001b[0m     io \u001b[39m=\u001b[39m ExcelFile(io, storage_options\u001b[39m=\u001b[39;49mstorage_options, engine\u001b[39m=\u001b[39;49mengine)\n\u001b[1;32m    483\u001b[0m \u001b[39melif\u001b[39;00m engine \u001b[39mand\u001b[39;00m engine \u001b[39m!=\u001b[39m io\u001b[39m.\u001b[39mengine:\n\u001b[1;32m    484\u001b[0m     \u001b[39mraise\u001b[39;00m \u001b[39mValueError\u001b[39;00m(\n\u001b[1;32m    485\u001b[0m         \u001b[39m\"\u001b[39m\u001b[39mEngine should not be specified when passing \u001b[39m\u001b[39m\"\u001b[39m\n\u001b[1;32m    486\u001b[0m         \u001b[39m\"\u001b[39m\u001b[39man ExcelFile - ExcelFile already has the engine set\u001b[39m\u001b[39m\"\u001b[39m\n\u001b[1;32m    487\u001b[0m     )\n",
      "File \u001b[0;32m~/.conda/envs/H2/lib/python3.8/site-packages/pandas/io/excel/_base.py:1652\u001b[0m, in \u001b[0;36mExcelFile.__init__\u001b[0;34m(self, path_or_buffer, engine, storage_options)\u001b[0m\n\u001b[1;32m   1650\u001b[0m     ext \u001b[39m=\u001b[39m \u001b[39m\"\u001b[39m\u001b[39mxls\u001b[39m\u001b[39m\"\u001b[39m\n\u001b[1;32m   1651\u001b[0m \u001b[39melse\u001b[39;00m:\n\u001b[0;32m-> 1652\u001b[0m     ext \u001b[39m=\u001b[39m inspect_excel_format(\n\u001b[1;32m   1653\u001b[0m         content_or_path\u001b[39m=\u001b[39;49mpath_or_buffer, storage_options\u001b[39m=\u001b[39;49mstorage_options\n\u001b[1;32m   1654\u001b[0m     )\n\u001b[1;32m   1655\u001b[0m     \u001b[39mif\u001b[39;00m ext \u001b[39mis\u001b[39;00m \u001b[39mNone\u001b[39;00m:\n\u001b[1;32m   1656\u001b[0m         \u001b[39mraise\u001b[39;00m \u001b[39mValueError\u001b[39;00m(\n\u001b[1;32m   1657\u001b[0m             \u001b[39m\"\u001b[39m\u001b[39mExcel file format cannot be determined, you must specify \u001b[39m\u001b[39m\"\u001b[39m\n\u001b[1;32m   1658\u001b[0m             \u001b[39m\"\u001b[39m\u001b[39man engine manually.\u001b[39m\u001b[39m\"\u001b[39m\n\u001b[1;32m   1659\u001b[0m         )\n",
      "File \u001b[0;32m~/.conda/envs/H2/lib/python3.8/site-packages/pandas/io/excel/_base.py:1525\u001b[0m, in \u001b[0;36minspect_excel_format\u001b[0;34m(content_or_path, storage_options)\u001b[0m\n\u001b[1;32m   1522\u001b[0m \u001b[39mif\u001b[39;00m \u001b[39misinstance\u001b[39m(content_or_path, \u001b[39mbytes\u001b[39m):\n\u001b[1;32m   1523\u001b[0m     content_or_path \u001b[39m=\u001b[39m BytesIO(content_or_path)\n\u001b[0;32m-> 1525\u001b[0m \u001b[39mwith\u001b[39;00m get_handle(\n\u001b[1;32m   1526\u001b[0m     content_or_path, \u001b[39m\"\u001b[39;49m\u001b[39mrb\u001b[39;49m\u001b[39m\"\u001b[39;49m, storage_options\u001b[39m=\u001b[39;49mstorage_options, is_text\u001b[39m=\u001b[39;49m\u001b[39mFalse\u001b[39;49;00m\n\u001b[1;32m   1527\u001b[0m ) \u001b[39mas\u001b[39;00m handle:\n\u001b[1;32m   1528\u001b[0m     stream \u001b[39m=\u001b[39m handle\u001b[39m.\u001b[39mhandle\n\u001b[1;32m   1529\u001b[0m     stream\u001b[39m.\u001b[39mseek(\u001b[39m0\u001b[39m)\n",
      "File \u001b[0;32m~/.conda/envs/H2/lib/python3.8/site-packages/pandas/io/common.py:865\u001b[0m, in \u001b[0;36mget_handle\u001b[0;34m(path_or_buf, mode, encoding, compression, memory_map, is_text, errors, storage_options)\u001b[0m\n\u001b[1;32m    856\u001b[0m         handle \u001b[39m=\u001b[39m \u001b[39mopen\u001b[39m(\n\u001b[1;32m    857\u001b[0m             handle,\n\u001b[1;32m    858\u001b[0m             ioargs\u001b[39m.\u001b[39mmode,\n\u001b[0;32m   (...)\u001b[0m\n\u001b[1;32m    861\u001b[0m             newline\u001b[39m=\u001b[39m\u001b[39m\"\u001b[39m\u001b[39m\"\u001b[39m,\n\u001b[1;32m    862\u001b[0m         )\n\u001b[1;32m    863\u001b[0m     \u001b[39melse\u001b[39;00m:\n\u001b[1;32m    864\u001b[0m         \u001b[39m# Binary mode\u001b[39;00m\n\u001b[0;32m--> 865\u001b[0m         handle \u001b[39m=\u001b[39m \u001b[39mopen\u001b[39;49m(handle, ioargs\u001b[39m.\u001b[39;49mmode)\n\u001b[1;32m    866\u001b[0m     handles\u001b[39m.\u001b[39mappend(handle)\n\u001b[1;32m    868\u001b[0m \u001b[39m# Convert BytesIO or file objects passed with an encoding\u001b[39;00m\n",
      "\u001b[0;31mFileNotFoundError\u001b[0m: [Errno 2] No such file or directory: 'datasets/Texas_lat_lon_data.xlsx'"
     ]
    }
   ],
   "source": [
    "# Get lat lon coordinates for counties in Texas from Excel file\n",
    "\n",
    "df = pd.read_excel('datasets/Texas_lat_lon_data.xlsx')\n"
   ]
  },
  {
   "cell_type": "code",
   "execution_count": null,
   "metadata": {},
   "outputs": [],
   "source": [
    "import pandas as pd\n",
    "import numpy as np\n",
    "from scipy.spatial import cKDTree\n",
    "\n",
    "# Assuming you have already defined your DataFrame 'df' and the necessary functions and variables\n",
    "\n",
    "dset_coords = f['coordinates'][...]\n",
    "tree = cKDTree(dset_coords)\n",
    "def nearest_site(tree, lat_coord, lon_coord):\n",
    "    lat_lon = np.array([lat_coord, lon_coord])\n",
    "    dist, pos = tree.query(lat_lon)\n",
    "    return pos\n",
    "\n",
    "# Create an empty list to store the nearest point indices\n",
    "nearest_indices = []\n",
    "\n",
    "# Iterate over each row in the DataFrame\n",
    "for index, row in df.iterrows():\n",
    "    # Get the latitude and longitude coordinates from the current row\n",
    "    lat_coord = row['Latitude']\n",
    "    lon_coord = row['Longitude']\n",
    "    \n",
    "    # Find the nearest point index using the 'nearest_site' function and the tree\n",
    "    nearest_index = nearest_site(tree, lat_coord, lon_coord)\n",
    "    \n",
    "    # Add the nearest point index to the list\n",
    "    nearest_indices.append(nearest_index)\n",
    "\n",
    "# Add the nearest indices as a new column in the DataFrame\n",
    "df['NearestIndex'] = nearest_indices\n"
   ]
  },
  {
   "cell_type": "code",
   "execution_count": 33,
   "metadata": {},
   "outputs": [
    {
     "ename": "NameError",
     "evalue": "name 'meta' is not defined",
     "output_type": "error",
     "traceback": [
      "\u001b[1;31m---------------------------------------------------------------------------\u001b[0m",
      "\u001b[1;31mNameError\u001b[0m                                 Traceback (most recent call last)",
      "\u001b[1;32mc:\\Users\\Akhilesh\\Documents\\GitHub\\hsds-examples\\notebooks\\TX_get_county_data.ipynb Cell 9\u001b[0m in \u001b[0;36m<cell line: 1>\u001b[1;34m()\u001b[0m\n\u001b[1;32m----> <a href='vscode-notebook-cell:/c%3A/Users/Akhilesh/Documents/GitHub/hsds-examples/notebooks/TX_get_county_data.ipynb#X22sZmlsZQ%3D%3D?line=0'>1</a>\u001b[0m meta\n",
      "\u001b[1;31mNameError\u001b[0m: name 'meta' is not defined"
     ]
    }
   ],
   "source": [
    "meta"
   ]
  },
  {
   "cell_type": "code",
<<<<<<< HEAD
   "execution_count": null,
   "metadata": {},
   "outputs": [],
   "source": [
    "import ast"
   ]
  },
  {
   "cell_type": "code",
   "execution_count": null,
   "metadata": {},
   "outputs": [],
   "source": [
    "df['list'] = df['ghi'].apply(lambda x: ast.literal_eval(x.split(\":\")[1]))"
   ]
  },
  {
   "cell_type": "code",
   "execution_count": 24,
=======
   "execution_count": 32,
>>>>>>> parent of f451c3b (update)
   "metadata": {},
   "outputs": [
    {
     "ename": "OSError",
     "evalue": "Error retrieving data: None",
     "output_type": "error",
     "traceback": [
      "\u001b[1;31m---------------------------------------------------------------------------\u001b[0m",
      "\u001b[1;31mIncompleteRead\u001b[0m                            Traceback (most recent call last)",
      "File \u001b[1;32mc:\\Users\\Akhilesh\\anaconda3\\envs\\H2_API\\lib\\site-packages\\urllib3\\response.py:705\u001b[0m, in \u001b[0;36mHTTPResponse._error_catcher\u001b[1;34m(self)\u001b[0m\n\u001b[0;32m    704\u001b[0m \u001b[39mtry\u001b[39;00m:\n\u001b[1;32m--> 705\u001b[0m     \u001b[39myield\u001b[39;00m\n\u001b[0;32m    707\u001b[0m \u001b[39mexcept\u001b[39;00m SocketTimeout \u001b[39mas\u001b[39;00m e:\n\u001b[0;32m    708\u001b[0m     \u001b[39m# FIXME: Ideally we'd like to include the url in the ReadTimeoutError but\u001b[39;00m\n\u001b[0;32m    709\u001b[0m     \u001b[39m# there is yet no clean way to get at it from this context.\u001b[39;00m\n",
      "File \u001b[1;32mc:\\Users\\Akhilesh\\anaconda3\\envs\\H2_API\\lib\\site-packages\\urllib3\\response.py:830\u001b[0m, in \u001b[0;36mHTTPResponse._raw_read\u001b[1;34m(self, amt)\u001b[0m\n\u001b[0;32m    820\u001b[0m         \u001b[39mif\u001b[39;00m (\n\u001b[0;32m    821\u001b[0m             \u001b[39mself\u001b[39m\u001b[39m.\u001b[39menforce_content_length\n\u001b[0;32m    822\u001b[0m             \u001b[39mand\u001b[39;00m \u001b[39mself\u001b[39m\u001b[39m.\u001b[39mlength_remaining \u001b[39mis\u001b[39;00m \u001b[39mnot\u001b[39;00m \u001b[39mNone\u001b[39;00m\n\u001b[1;32m   (...)\u001b[0m\n\u001b[0;32m    828\u001b[0m             \u001b[39m# raised during streaming, so all calls with incorrect\u001b[39;00m\n\u001b[0;32m    829\u001b[0m             \u001b[39m# Content-Length are caught.\u001b[39;00m\n\u001b[1;32m--> 830\u001b[0m             \u001b[39mraise\u001b[39;00m IncompleteRead(\u001b[39mself\u001b[39m\u001b[39m.\u001b[39m_fp_bytes_read, \u001b[39mself\u001b[39m\u001b[39m.\u001b[39mlength_remaining)\n\u001b[0;32m    832\u001b[0m \u001b[39mif\u001b[39;00m data:\n",
      "\u001b[1;31mIncompleteRead\u001b[0m: IncompleteRead(0 bytes read, 16147136 more expected)",
      "\nThe above exception was the direct cause of the following exception:\n",
      "\u001b[1;31mProtocolError\u001b[0m                             Traceback (most recent call last)",
      "File \u001b[1;32mc:\\Users\\Akhilesh\\anaconda3\\envs\\H2_API\\lib\\site-packages\\requests\\models.py:816\u001b[0m, in \u001b[0;36mResponse.iter_content.<locals>.generate\u001b[1;34m()\u001b[0m\n\u001b[0;32m    815\u001b[0m \u001b[39mtry\u001b[39;00m:\n\u001b[1;32m--> 816\u001b[0m     \u001b[39myield from\u001b[39;00m \u001b[39mself\u001b[39m\u001b[39m.\u001b[39mraw\u001b[39m.\u001b[39mstream(chunk_size, decode_content\u001b[39m=\u001b[39m\u001b[39mTrue\u001b[39;00m)\n\u001b[0;32m    817\u001b[0m \u001b[39mexcept\u001b[39;00m ProtocolError \u001b[39mas\u001b[39;00m e:\n",
      "File \u001b[1;32mc:\\Users\\Akhilesh\\anaconda3\\envs\\H2_API\\lib\\site-packages\\urllib3\\response.py:935\u001b[0m, in \u001b[0;36mHTTPResponse.stream\u001b[1;34m(self, amt, decode_content)\u001b[0m\n\u001b[0;32m    934\u001b[0m \u001b[39mwhile\u001b[39;00m \u001b[39mnot\u001b[39;00m is_fp_closed(\u001b[39mself\u001b[39m\u001b[39m.\u001b[39m_fp) \u001b[39mor\u001b[39;00m \u001b[39mlen\u001b[39m(\u001b[39mself\u001b[39m\u001b[39m.\u001b[39m_decoded_buffer) \u001b[39m>\u001b[39m \u001b[39m0\u001b[39m:\n\u001b[1;32m--> 935\u001b[0m     data \u001b[39m=\u001b[39m \u001b[39mself\u001b[39;49m\u001b[39m.\u001b[39;49mread(amt\u001b[39m=\u001b[39;49mamt, decode_content\u001b[39m=\u001b[39;49mdecode_content)\n\u001b[0;32m    937\u001b[0m     \u001b[39mif\u001b[39;00m data:\n",
      "File \u001b[1;32mc:\\Users\\Akhilesh\\anaconda3\\envs\\H2_API\\lib\\site-packages\\urllib3\\response.py:874\u001b[0m, in \u001b[0;36mHTTPResponse.read\u001b[1;34m(self, amt, decode_content, cache_content)\u001b[0m\n\u001b[0;32m    872\u001b[0m         \u001b[39mreturn\u001b[39;00m \u001b[39mself\u001b[39m\u001b[39m.\u001b[39m_decoded_buffer\u001b[39m.\u001b[39mget(amt)\n\u001b[1;32m--> 874\u001b[0m data \u001b[39m=\u001b[39m \u001b[39mself\u001b[39;49m\u001b[39m.\u001b[39;49m_raw_read(amt)\n\u001b[0;32m    876\u001b[0m flush_decoder \u001b[39m=\u001b[39m \u001b[39mFalse\u001b[39;00m\n",
      "File \u001b[1;32mc:\\Users\\Akhilesh\\anaconda3\\envs\\H2_API\\lib\\site-packages\\urllib3\\response.py:830\u001b[0m, in \u001b[0;36mHTTPResponse._raw_read\u001b[1;34m(self, amt)\u001b[0m\n\u001b[0;32m    820\u001b[0m         \u001b[39mif\u001b[39;00m (\n\u001b[0;32m    821\u001b[0m             \u001b[39mself\u001b[39m\u001b[39m.\u001b[39menforce_content_length\n\u001b[0;32m    822\u001b[0m             \u001b[39mand\u001b[39;00m \u001b[39mself\u001b[39m\u001b[39m.\u001b[39mlength_remaining \u001b[39mis\u001b[39;00m \u001b[39mnot\u001b[39;00m \u001b[39mNone\u001b[39;00m\n\u001b[1;32m   (...)\u001b[0m\n\u001b[0;32m    828\u001b[0m             \u001b[39m# raised during streaming, so all calls with incorrect\u001b[39;00m\n\u001b[0;32m    829\u001b[0m             \u001b[39m# Content-Length are caught.\u001b[39;00m\n\u001b[1;32m--> 830\u001b[0m             \u001b[39mraise\u001b[39;00m IncompleteRead(\u001b[39mself\u001b[39m\u001b[39m.\u001b[39m_fp_bytes_read, \u001b[39mself\u001b[39m\u001b[39m.\u001b[39mlength_remaining)\n\u001b[0;32m    832\u001b[0m \u001b[39mif\u001b[39;00m data:\n",
      "File \u001b[1;32mc:\\Users\\Akhilesh\\anaconda3\\envs\\H2_API\\lib\\contextlib.py:131\u001b[0m, in \u001b[0;36m_GeneratorContextManager.__exit__\u001b[1;34m(self, type, value, traceback)\u001b[0m\n\u001b[0;32m    130\u001b[0m \u001b[39mtry\u001b[39;00m:\n\u001b[1;32m--> 131\u001b[0m     \u001b[39mself\u001b[39;49m\u001b[39m.\u001b[39;49mgen\u001b[39m.\u001b[39;49mthrow(\u001b[39mtype\u001b[39;49m, value, traceback)\n\u001b[0;32m    132\u001b[0m \u001b[39mexcept\u001b[39;00m \u001b[39mStopIteration\u001b[39;00m \u001b[39mas\u001b[39;00m exc:\n\u001b[0;32m    133\u001b[0m     \u001b[39m# Suppress StopIteration *unless* it's the same exception that\u001b[39;00m\n\u001b[0;32m    134\u001b[0m     \u001b[39m# was passed to throw().  This prevents a StopIteration\u001b[39;00m\n\u001b[0;32m    135\u001b[0m     \u001b[39m# raised inside the \"with\" statement from being suppressed.\u001b[39;00m\n",
      "File \u001b[1;32mc:\\Users\\Akhilesh\\anaconda3\\envs\\H2_API\\lib\\site-packages\\urllib3\\response.py:722\u001b[0m, in \u001b[0;36mHTTPResponse._error_catcher\u001b[1;34m(self)\u001b[0m\n\u001b[0;32m    720\u001b[0m \u001b[39mexcept\u001b[39;00m (HTTPException, \u001b[39mOSError\u001b[39;00m) \u001b[39mas\u001b[39;00m e:\n\u001b[0;32m    721\u001b[0m     \u001b[39m# This includes IncompleteRead.\u001b[39;00m\n\u001b[1;32m--> 722\u001b[0m     \u001b[39mraise\u001b[39;00m ProtocolError(\u001b[39mf\u001b[39m\u001b[39m\"\u001b[39m\u001b[39mConnection broken: \u001b[39m\u001b[39m{\u001b[39;00me\u001b[39m!r}\u001b[39;00m\u001b[39m\"\u001b[39m, e) \u001b[39mfrom\u001b[39;00m \u001b[39me\u001b[39;00m\n\u001b[0;32m    724\u001b[0m \u001b[39m# If no exception is thrown, we should avoid cleaning up\u001b[39;00m\n\u001b[0;32m    725\u001b[0m \u001b[39m# unnecessarily.\u001b[39;00m\n",
      "\u001b[1;31mProtocolError\u001b[0m: ('Connection broken: IncompleteRead(0 bytes read, 16147136 more expected)', IncompleteRead(0 bytes read, 16147136 more expected))",
      "\nDuring handling of the above exception, another exception occurred:\n",
      "\u001b[1;31mChunkedEncodingError\u001b[0m                      Traceback (most recent call last)",
      "File \u001b[1;32mc:\\Users\\Akhilesh\\anaconda3\\envs\\H2_API\\lib\\site-packages\\h5pyd\\_hl\\dataset.py:1166\u001b[0m, in \u001b[0;36mDataset.__getitem__\u001b[1;34m(self, args, new_dtype)\u001b[0m\n\u001b[0;32m   1165\u001b[0m \u001b[39mtry\u001b[39;00m:\n\u001b[1;32m-> 1166\u001b[0m     rsp \u001b[39m=\u001b[39m \u001b[39mself\u001b[39;49m\u001b[39m.\u001b[39;49mGET(req, params\u001b[39m=\u001b[39;49mparams, \u001b[39mformat\u001b[39;49m\u001b[39m=\u001b[39;49m\u001b[39m\"\u001b[39;49m\u001b[39mbinary\u001b[39;49m\u001b[39m\"\u001b[39;49m)\n\u001b[0;32m   1167\u001b[0m \u001b[39mexcept\u001b[39;00m \u001b[39mIOError\u001b[39;00m \u001b[39mas\u001b[39;00m ioe:\n",
      "File \u001b[1;32mc:\\Users\\Akhilesh\\anaconda3\\envs\\H2_API\\lib\\site-packages\\h5pyd\\_hl\\base.py:974\u001b[0m, in \u001b[0;36mHLObject.GET\u001b[1;34m(self, req, params, use_cache, format)\u001b[0m\n\u001b[0;32m    973\u001b[0m downloaded_bytes \u001b[39m=\u001b[39m \u001b[39m0\u001b[39m\n\u001b[1;32m--> 974\u001b[0m \u001b[39mfor\u001b[39;00m http_chunk \u001b[39min\u001b[39;00m rsp\u001b[39m.\u001b[39miter_content(chunk_size\u001b[39m=\u001b[39mHTTP_CHUNK_SIZE):\n\u001b[0;32m    975\u001b[0m     \u001b[39mif\u001b[39;00m http_chunk:  \u001b[39m# filter out keep alive chunks\u001b[39;00m\n",
      "File \u001b[1;32mc:\\Users\\Akhilesh\\anaconda3\\envs\\H2_API\\lib\\site-packages\\requests\\models.py:818\u001b[0m, in \u001b[0;36mResponse.iter_content.<locals>.generate\u001b[1;34m()\u001b[0m\n\u001b[0;32m    817\u001b[0m \u001b[39mexcept\u001b[39;00m ProtocolError \u001b[39mas\u001b[39;00m e:\n\u001b[1;32m--> 818\u001b[0m     \u001b[39mraise\u001b[39;00m ChunkedEncodingError(e)\n\u001b[0;32m    819\u001b[0m \u001b[39mexcept\u001b[39;00m DecodeError \u001b[39mas\u001b[39;00m e:\n",
      "\u001b[1;31mChunkedEncodingError\u001b[0m: ('Connection broken: IncompleteRead(0 bytes read, 16147136 more expected)', IncompleteRead(0 bytes read, 16147136 more expected))",
      "\nDuring handling of the above exception, another exception occurred:\n",
      "\u001b[1;31mOSError\u001b[0m                                   Traceback (most recent call last)",
      "\u001b[1;32mc:\\Users\\Akhilesh\\Documents\\GitHub\\hsds-examples\\notebooks\\TX_get_county_data.ipynb Cell 9\u001b[0m in \u001b[0;36m<cell line: 4>\u001b[1;34m()\u001b[0m\n\u001b[0;32m      <a href='vscode-notebook-cell:/c%3A/Users/Akhilesh/Documents/GitHub/hsds-examples/notebooks/TX_get_county_data.ipynb#X10sZmlsZQ%3D%3D?line=0'>1</a>\u001b[0m \u001b[39m# Unlike the gridded WTK data the NSRDB is provided as sparse time-series dataset.\u001b[39;00m\n\u001b[0;32m      <a href='vscode-notebook-cell:/c%3A/Users/Akhilesh/Documents/GitHub/hsds-examples/notebooks/TX_get_county_data.ipynb#X10sZmlsZQ%3D%3D?line=1'>2</a>\u001b[0m \u001b[39m# The quickest way to find the nearest site it using a KDtree\u001b[39;00m\n\u001b[1;32m----> <a href='vscode-notebook-cell:/c%3A/Users/Akhilesh/Documents/GitHub/hsds-examples/notebooks/TX_get_county_data.ipynb#X10sZmlsZQ%3D%3D?line=3'>4</a>\u001b[0m dset_coords \u001b[39m=\u001b[39m f[\u001b[39m'\u001b[39;49m\u001b[39mcoordinates\u001b[39;49m\u001b[39m'\u001b[39;49m][\u001b[39m.\u001b[39;49m\u001b[39m.\u001b[39;49m\u001b[39m.\u001b[39;49m]\n\u001b[0;32m      <a href='vscode-notebook-cell:/c%3A/Users/Akhilesh/Documents/GitHub/hsds-examples/notebooks/TX_get_county_data.ipynb#X10sZmlsZQ%3D%3D?line=4'>5</a>\u001b[0m tree \u001b[39m=\u001b[39m cKDTree(dset_coords)\n\u001b[0;32m      <a href='vscode-notebook-cell:/c%3A/Users/Akhilesh/Documents/GitHub/hsds-examples/notebooks/TX_get_county_data.ipynb#X10sZmlsZQ%3D%3D?line=5'>6</a>\u001b[0m \u001b[39mdef\u001b[39;00m \u001b[39mnearest_site\u001b[39m(tree, lat_coord, lon_coord):\n",
      "File \u001b[1;32mc:\\Users\\Akhilesh\\anaconda3\\envs\\H2_API\\lib\\site-packages\\h5pyd\\_hl\\dataset.py:1175\u001b[0m, in \u001b[0;36mDataset.__getitem__\u001b[1;34m(self, args, new_dtype)\u001b[0m\n\u001b[0;32m   1173\u001b[0m         \u001b[39mbreak\u001b[39;00m\n\u001b[0;32m   1174\u001b[0m     \u001b[39melse\u001b[39;00m:\n\u001b[1;32m-> 1175\u001b[0m         \u001b[39mraise\u001b[39;00m \u001b[39mIOError\u001b[39;00m(\u001b[39mf\u001b[39m\u001b[39m\"\u001b[39m\u001b[39mError retrieving data: \u001b[39m\u001b[39m{\u001b[39;00mioe\u001b[39m.\u001b[39merrno\u001b[39m}\u001b[39;00m\u001b[39m\"\u001b[39m)\n\u001b[0;32m   1176\u001b[0m \u001b[39mif\u001b[39;00m \u001b[39misinstance\u001b[39m(rsp, \u001b[39mstr\u001b[39m):\n\u001b[0;32m   1177\u001b[0m     \u001b[39m# hexencoded response?\u001b[39;00m\n\u001b[0;32m   1178\u001b[0m     \u001b[39m# this is returned by API Gateway for lamba responses\u001b[39;00m\n\u001b[0;32m   1179\u001b[0m     rsp \u001b[39m=\u001b[39m \u001b[39mbytes\u001b[39m\u001b[39m.\u001b[39mfromhex(rsp)\n",
      "\u001b[1;31mOSError\u001b[0m: Error retrieving data: None"
     ]
    }
   ],
   "source": [
    "# Unlike the gridded WTK data the NSRDB is provided as sparse time-series dataset.\n",
    "# The quickest way to find the nearest site it using a KDtree\n",
    "\n",
    "dset_coords = f['coordinates'][...]\n",
    "tree = cKDTree(dset_coords)\n",
    "def nearest_site(tree, lat_coord, lon_coord):\n",
    "    lat_lon = np.array([lat_coord, lon_coord])\n",
    "    dist, pos = tree.query(lat_lon)\n",
    "    return pos\n",
    "\n",
    "# NewYorkCity = (40.7128, -74.0059)\n",
    "# NewYorkCity_idx = nearest_site(tree, NewYorkCity[0], NewYorkCity[1] )\n",
    "\n",
    "# print(\"Site index for New York City: \\t\\t {}\".format(NewYorkCity_idx))\n",
    "# print(\"Coordinates of New York City: \\t {}\".format(NewYorkCity))\n",
    "# print(\"Coordinates of nearest point: \\t {}\".format(dset_coords[NewYorkCity_idx]))"
   ]
  },
  {
   "cell_type": "code",
   "execution_count": 15,
   "metadata": {},
   "outputs": [
    {
     "ename": "TypeError",
     "evalue": "'RangeIndex' object is not callable",
     "output_type": "error",
     "traceback": [
      "\u001b[1;31m---------------------------------------------------------------------------\u001b[0m",
      "\u001b[1;31mTypeError\u001b[0m                                 Traceback (most recent call last)",
      "\u001b[1;32mc:\\Users\\Akhilesh\\Documents\\GitHub\\hsds-examples\\notebooks\\TX_get_county_data.ipynb Cell 10\u001b[0m in \u001b[0;36m<cell line: 1>\u001b[1;34m()\u001b[0m\n\u001b[1;32m----> <a href='vscode-notebook-cell:/c%3A/Users/Akhilesh/Documents/GitHub/hsds-examples/notebooks/TX_get_county_data.ipynb#X16sZmlsZQ%3D%3D?line=0'>1</a>\u001b[0m \u001b[39mfor\u001b[39;00m row, index \u001b[39min\u001b[39;00m df[[\u001b[39m'\u001b[39;49m\u001b[39mLatitude\u001b[39;49m\u001b[39m'\u001b[39;49m, \u001b[39m'\u001b[39;49m\u001b[39mLongitude\u001b[39;49m\u001b[39m'\u001b[39;49m]]\u001b[39m.\u001b[39;49mindex():\n\u001b[0;32m      <a href='vscode-notebook-cell:/c%3A/Users/Akhilesh/Documents/GitHub/hsds-examples/notebooks/TX_get_county_data.ipynb#X16sZmlsZQ%3D%3D?line=1'>2</a>\u001b[0m     \u001b[39mprint\u001b[39m(row)\n",
      "\u001b[1;31mTypeError\u001b[0m: 'RangeIndex' object is not callable"
     ]
    }
   ],
   "source": [
    "nearest_indices = []\n",
    "\n",
    "# Iterate over each row in the DataFrame\n",
    "for index, row in df.iterrows():\n",
    "    # Get the latitude and longitude coordinates from the current row\n",
    "    lat_coord = row['Latitude']\n",
    "    lon_coord = row['Longitude']\n",
    "    \n",
    "    # Find the nearest point index using the 'nearest_site' function and the tree\n",
    "    nearest_index = nearest_site(tree, lat_coord, lon_coord)\n",
    "    \n",
    "    # Add the nearest point index to the list\n",
    "    nearest_indices.append(nearest_index)\n",
    "\n",
    "# Add the nearest indices as a new column in the DataFrame\n",
    "df['NearestIndex'] = nearest_indices"
   ]
  },
  {
   "cell_type": "code",
   "execution_count": 8,
   "metadata": {},
   "outputs": [],
   "source": [
    "# Get the entire timeseries data for a point in NYC\n",
    "tseries = dset[:, NewYorkCity_idx] / dset.attrs['psm_scale_factor']"
   ]
  },
  {
   "cell_type": "code",
   "execution_count": 9,
   "metadata": {},
   "outputs": [
    {
     "data": {
      "text/plain": [
       "Text(0.5, 1.0, 'NYC ghi in 2012')"
      ]
     },
     "execution_count": 9,
     "metadata": {},
     "output_type": "execute_result"
    },
    {
     "data": {
      "image/png": "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",
      "text/plain": [
       "<Figure size 640x480 with 1 Axes>"
      ]
     },
     "metadata": {},
     "output_type": "display_data"
    }
   ],
   "source": [
    "plt.plot(time_index, tseries)\n",
    "plt.ylabel(\"ghi\")\n",
    "plt.title(\"NYC ghi in 2012\")"
   ]
  },
  {
   "cell_type": "code",
   "execution_count": null,
   "metadata": {},
   "outputs": [],
   "source": []
  }
 ],
 "metadata": {
  "kernelspec": {
   "display_name": "H2_API",
   "language": "python",
   "name": "python3"
  },
  "language_info": {
   "codemirror_mode": {
    "name": "ipython",
    "version": 3
   },
   "file_extension": ".py",
   "mimetype": "text/x-python",
   "name": "python",
   "nbconvert_exporter": "python",
   "pygments_lexer": "ipython3",
   "version": "3.8.13"
  },
  "orig_nbformat": 4
 },
 "nbformat": 4,
 "nbformat_minor": 2
}
